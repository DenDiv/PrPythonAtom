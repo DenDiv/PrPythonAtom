{
 "cells": [
  {
   "cell_type": "markdown",
   "metadata": {},
   "source": [
    "# Недельник 1\n",
    "\n",
    "Как было сказано на лекции, на текущей неделе вы получаете ежедневные задания. Система оценки следующая: в первый день(четверг) вы делаете первый pull-request в ветку homework_01. Потом каждый день делаете коммит, он будет автоматически привязывать к pull-request. Если задачка не сделана в течении 2-х дней она сгорает. (Можно четверг сделать в четверг и пятницу)"
   ]
  },
  {
   "cell_type": "markdown",
   "metadata": {},
   "source": [
    "# Четверг"
   ]
  },
  {
   "cell_type": "code",
   "execution_count": 5,
   "metadata": {},
   "outputs": [],
   "source": [
    "#TODO Сделайте калькулятор произвольных выражений, операции следующие: +, -, /, ^, *. скобок нет\n",
    "def calculate(input_str):\n",
    "    str1 = input_str.split(' ')\n",
    "    for i in range(len(str1)):\n",
    "        if str1[i].find('^') != -1:\n",
    "            pos = str1[i].find('^')\n",
    "            str1[i] = int(str1[i][0:pos]) ** int(str1[i][pos + 1:])\n",
    "    Flag = True\n",
    "    while Flag:\n",
    "        for i in range(len(str1)):\n",
    "            if str1[i] == '*':\n",
    "                str1[i] = int(str1[i - 1]) * int(str1[i + 1])\n",
    "                del str1[i + 1]\n",
    "                del str1[i - 1]\n",
    "                break\n",
    "            elif str1[i] == '/':\n",
    "                str1[i] = int(str1[i - 1]) / int(str1[i + 1])\n",
    "                del str1[i + 1]\n",
    "                del str1[i - 1]\n",
    "                break\n",
    "            elif i == len(str1)-1:\n",
    "                Flag = False\n",
    "                break\n",
    "    Flag = True\n",
    "    while Flag:\n",
    "        for i in range(len(str1)):\n",
    "            if str1[i] == '+':\n",
    "                str1[i] = int(str1[i - 1]) + int(str1[i + 1])\n",
    "                del str1[i + 1]\n",
    "                del str1[i - 1]\n",
    "                break\n",
    "            elif str1[i] == '-':\n",
    "                str1[i] = int(str1[i - 1]) - int(str1[i + 1])\n",
    "                del str1[i + 1]\n",
    "                del str1[i - 1]\n",
    "                break\n",
    "            elif i == len(str1) - 1:\n",
    "                Flag = False\n",
    "                break\n",
    "    return str1[0]"
   ]
  },
  {
   "cell_type": "code",
   "execution_count": 8,
   "metadata": {
    "scrolled": true
   },
   "outputs": [],
   "source": [
    "assert calculate(\"2 + 2 * 2\") == 6\n",
    "assert calculate(\"345 / 5 * 21\") == 1449.\n",
    "assert calculate(\"3^3 - 10 + 41 * 3\") == 140\n",
    "assert calculate(\"42 / 7 * 32\") == 192.0\n",
    "assert calculate(\"22 + 33 / 11 - 3^2\") == 16.0\n",
    "assert calculate(\"189 + 256 / 2 - 4^3\") == 253.0\n",
    "#TODO Дополнить еще 2-мя своими тестами"
   ]
  },
  {
   "cell_type": "markdown",
   "metadata": {},
   "source": [
    "# Пятница"
   ]
  },
  {
   "cell_type": "code",
   "execution_count": 2,
   "metadata": {},
   "outputs": [],
   "source": [
    "#TODO метод разворачивающий строку HE2LO -> HELLO (число означает сколько раз встречается буква)\n",
    "def transform_string(inp_string):\n",
    "    new_string = ''\n",
    "    i = 0\n",
    "    while i < len(inp_string):\n",
    "        if not inp_string[i].isdigit():\n",
    "            new_string += inp_string[i]\n",
    "        else:\n",
    "            dig = inp_string[i]\n",
    "            while inp_string[i+1].isdigit():\n",
    "                dig += inp_string[i+1]\n",
    "                i += 1\n",
    "            i += 1\n",
    "            new_string += int(dig) * inp_string[i]\n",
    "        i += 1\n",
    "    return new_string"
   ]
  },
  {
   "cell_type": "code",
   "execution_count": 4,
   "metadata": {},
   "outputs": [],
   "source": [
    "assert transform_string(\"HE2LO\") == \"HELLO\"\n",
    "assert transform_string(\"HI\") == \"HI\"\n",
    "assert transform_string(\"пр12ивет\") == \"приииииииииииивет\"\n",
    "assert transform_string(\"2л3у78н65тик\") == 'ллуууннннннннннннннннннннннннннннннннннннннннннннннннннннннннннннннннннннннннннннннтттттттттттттттттттттттттттттттттттттттттттттттттттттттттттттттттик'\n",
    "assert transform_string(\"3days4grace\") == 'dddaysggggrace'\n",
    "assert transform_string(\"5for3d\") == 'ffffforddd'\n",
    "#TODO Дописать 2 своих теста"
   ]
  },
  {
   "cell_type": "markdown",
   "metadata": {},
   "source": [
    "# Суббота"
   ]
  },
  {
   "cell_type": "code",
   "execution_count": 2,
   "metadata": {},
   "outputs": [],
   "source": [
    "#TODO метод выводящий статистику по строке, кол-во гласных, согласных, цифр, строчных букв, прописных букв\n",
    "def string_stat(inp_string):\n",
    "    stat = [0 for i in range(5)]\n",
    "    gl = set('уеэоаыяиюё')\n",
    "    for i in range(len(inp_string)):\n",
    "        if inp_string[i].isdigit():\n",
    "            stat[2] += 1\n",
    "        else:\n",
    "            if inp_string[i].islower():\n",
    "                stat[3] += 1\n",
    "            else:\n",
    "                stat[4] += 1\n",
    "            if inp_string[i] in gl:\n",
    "                stat[0] += 1\n",
    "            else:\n",
    "                stat[1] += 1\n",
    "    return tuple(stat)"
   ]
  },
  {
   "cell_type": "code",
   "execution_count": 3,
   "metadata": {},
   "outputs": [],
   "source": [
    "assert string_stat(\"Тевирп\") == (2, 4, 0, 5, 1)\n",
    "assert string_stat(\"КоРоВа4\") == (3, 3, 1, 3, 3)\n",
    "assert string_stat(\"Во4дОЛа3з\") == (2, 5, 2, 4, 3)\n",
    "assert string_stat(\"234КоТ23\") == (1, 2, 5, 1, 2)\n",
    "#TODO 2 своих теста"
   ]
  },
  {
   "cell_type": "markdown",
   "metadata": {},
   "source": [
    "# Воскресенье - ВЫХОДНОЙ"
   ]
  },
  {
   "cell_type": "markdown",
   "metadata": {},
   "source": [
    "# Понедельник"
   ]
  },
  {
   "cell_type": "code",
   "execution_count": null,
   "metadata": {},
   "outputs": [],
   "source": [
    "#TODO инвертируйте словарь из k - [v_1, v_2] в v_1 [k_1]\n",
    "def dict_inverter(input_dict):\n",
    "    return {}"
   ]
  },
  {
   "cell_type": "code",
   "execution_count": null,
   "metadata": {},
   "outputs": [],
   "source": [
    "assert dict_inverter({\"mango\" : [\"eatable\"], \"pillow\": [\"sleepable\"]}) == {\"eatable\": \"mango\", \"sleepable\": \"pillow\"}\n",
    "assert dict_inverter({\"mango\" : [\"eatable\", \"readable\"]}) == {\"readable\":\"mango\", \"eatable\":\"mango\"}\n",
    "assert dict_inverter({\"mango\" : [\"eatable\"], \"banana\": [\"eatable\"]}) == {\"eatable\": [\"mango\", \"banana\"]}\n",
    "\n",
    "#TODO Один свой тест"
   ]
  },
  {
   "cell_type": "markdown",
   "metadata": {},
   "source": [
    "# Вторник"
   ]
  },
  {
   "cell_type": "code",
   "execution_count": null,
   "metadata": {},
   "outputs": [],
   "source": [
    "#TODO вывести уникальные элементы массива\n",
    "def uniq_array(input_arr):\n",
    "    return []"
   ]
  },
  {
   "cell_type": "code",
   "execution_count": null,
   "metadata": {},
   "outputs": [],
   "source": [
    "assert uniq_array([0]) == [0]\n",
    "assert uniq_array([0, 1, 2, 3]) == [0, 1, 2, 3]\n",
    "assert uniq_array([\"f\", \"t\", \"f\"]) == ['t', 'f']\n",
    "assert uniq_array(['rt', 'rt']) == ['rt']"
   ]
  }
 ],
 "metadata": {
  "kernelspec": {
   "display_name": "Python 3",
   "language": "python",
   "name": "python3"
  },
  "language_info": {
   "codemirror_mode": {
    "name": "ipython",
    "version": 3
   },
   "file_extension": ".py",
   "mimetype": "text/x-python",
   "name": "python",
   "nbconvert_exporter": "python",
   "pygments_lexer": "ipython3",
   "version": "3.6.5"
  }
 },
 "nbformat": 4,
 "nbformat_minor": 2
}
